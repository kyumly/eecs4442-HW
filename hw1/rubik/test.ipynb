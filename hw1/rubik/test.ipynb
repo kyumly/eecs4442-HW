{
 "cells": [
  {
   "cell_type": "code",
   "execution_count": 1,
   "id": "initial_id",
   "metadata": {
    "collapsed": true,
    "ExecuteTime": {
     "end_time": "2024-02-05T01:26:11.508663300Z",
     "start_time": "2024-02-05T01:26:11.368500500Z"
    }
   },
   "outputs": [],
   "source": [
    "import cv2\n",
    "import numpy as np\n",
    "\n",
    "path = 'indoor.png'\n",
    "\n",
    "a = cv2.imread(path)"
   ]
  },
  {
   "cell_type": "code",
   "outputs": [],
   "source": [
    "a_trans = np.transpose(a, (2, 1, 0))"
   ],
   "metadata": {
    "collapsed": false,
    "ExecuteTime": {
     "end_time": "2024-02-05T01:26:11.530231500Z",
     "start_time": "2024-02-05T01:26:11.508663300Z"
    }
   },
   "id": "9e4352375f348883",
   "execution_count": 2
  },
  {
   "cell_type": "code",
   "outputs": [],
   "source": [
    "a = np.arange(start=1, stop=10, step=1).reshape(3 ,3)"
   ],
   "metadata": {
    "collapsed": false,
    "ExecuteTime": {
     "end_time": "2024-02-05T01:26:11.541595400Z",
     "start_time": "2024-02-05T01:26:11.523062500Z"
    }
   },
   "id": "9c458d2bfff8e02e",
   "execution_count": 3
  },
  {
   "cell_type": "code",
   "outputs": [
    {
     "name": "stdout",
     "output_type": "stream",
     "text": [
      "[[1 2 3]\n",
      " [4 5 6]\n",
      " [7 8 9]]\n"
     ]
    },
    {
     "data": {
      "text/plain": "array([[  1,   8,  27],\n       [ 64, 125, 216],\n       [343, 512, 729]])"
     },
     "execution_count": 4,
     "metadata": {},
     "output_type": "execute_result"
    }
   ],
   "source": [
    "print(a)\n",
    "a * a * a"
   ],
   "metadata": {
    "collapsed": false,
    "ExecuteTime": {
     "end_time": "2024-02-05T01:26:11.840939Z",
     "start_time": "2024-02-05T01:26:11.787492500Z"
    }
   },
   "id": "3d30e4554d6a1a58",
   "execution_count": 4
  },
  {
   "cell_type": "code",
   "outputs": [],
   "source": [],
   "metadata": {
    "collapsed": false
   },
   "id": "9fe5488ee6762e12"
  }
 ],
 "metadata": {
  "kernelspec": {
   "display_name": "Python 3",
   "language": "python",
   "name": "python3"
  },
  "language_info": {
   "codemirror_mode": {
    "name": "ipython",
    "version": 2
   },
   "file_extension": ".py",
   "mimetype": "text/x-python",
   "name": "python",
   "nbconvert_exporter": "python",
   "pygments_lexer": "ipython2",
   "version": "2.7.6"
  }
 },
 "nbformat": 4,
 "nbformat_minor": 5
}
