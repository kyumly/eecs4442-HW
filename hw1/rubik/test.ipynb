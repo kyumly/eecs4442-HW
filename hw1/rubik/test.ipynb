{
 "cells": [
  {
   "cell_type": "code",
   "execution_count": 1,
   "id": "initial_id",
   "metadata": {
    "collapsed": true,
    "ExecuteTime": {
     "end_time": "2024-02-05T01:26:11.508663300Z",
     "start_time": "2024-02-05T01:26:11.368500500Z"
    }
   },
   "outputs": [],
   "source": [
    "import cv2\n",
    "import numpy as np\n",
    "\n",
    "path = 'indoor.png'\n",
    "\n",
    "a = cv2.imread(path)"
   ]
  },
  {
   "cell_type": "code",
   "execution_count": 4,
   "outputs": [
    {
     "data": {
      "text/plain": "(256, 256, 3)"
     },
     "execution_count": 4,
     "metadata": {},
     "output_type": "execute_result"
    }
   ],
   "source": [],
   "metadata": {
    "collapsed": false
   }
  },
  {
   "cell_type": "code",
   "outputs": [
    {
     "data": {
      "text/plain": "(3, 256, 256)"
     },
     "execution_count": 6,
     "metadata": {},
     "output_type": "execute_result"
    }
   ],
   "source": [
    "a_trans = np.transpose(a, (2, 1, 0))\n",
    "a_trans.shape"
   ],
   "metadata": {
    "collapsed": false,
    "ExecuteTime": {
     "end_time": "2024-02-05T01:26:11.530231500Z",
     "start_time": "2024-02-05T01:26:11.508663300Z"
    }
   },
   "id": "9e4352375f348883",
   "execution_count": 6
  },
  {
   "cell_type": "code",
   "outputs": [],
   "source": [
    "a = np.arange(start=1, stop=10, step=1).reshape(3 ,3)"
   ],
   "metadata": {
    "collapsed": false,
    "ExecuteTime": {
     "end_time": "2024-02-05T01:26:11.541595400Z",
     "start_time": "2024-02-05T01:26:11.523062500Z"
    }
   },
   "id": "9c458d2bfff8e02e",
   "execution_count": 3
  },
  {
   "cell_type": "code",
   "outputs": [
    {
     "name": "stdout",
     "output_type": "stream",
     "text": [
      "[[1 2 3]\n",
      " [4 5 6]\n",
      " [7 8 9]]\n"
     ]
    },
    {
     "data": {
      "text/plain": "array([[  1,   8,  27],\n       [ 64, 125, 216],\n       [343, 512, 729]])"
     },
     "execution_count": 4,
     "metadata": {},
     "output_type": "execute_result"
    }
   ],
   "source": [
    "print(a)\n",
    "a * a * a"
   ],
   "metadata": {
    "collapsed": false,
    "ExecuteTime": {
     "end_time": "2024-02-05T01:26:11.840939Z",
     "start_time": "2024-02-05T01:26:11.787492500Z"
    }
   },
   "id": "3d30e4554d6a1a58",
   "execution_count": 4
  },
  {
   "cell_type": "code",
   "outputs": [
    {
     "name": "stdout",
     "output_type": "stream",
     "text": [
      "512\n",
      "512\n"
     ]
    },
    {
     "ename": "IndexError",
     "evalue": "index 3 is out of bounds for axis 0 with size 3",
     "output_type": "error",
     "traceback": [
      "\u001B[0;31m---------------------------------------------------------------------------\u001B[0m",
      "\u001B[0;31mIndexError\u001B[0m                                Traceback (most recent call last)",
      "Cell \u001B[0;32mIn[7], line 25\u001B[0m\n\u001B[1;32m     23\u001B[0m \u001B[38;5;28;01mfor\u001B[39;00m i \u001B[38;5;129;01min\u001B[39;00m \u001B[38;5;28mrange\u001B[39m(height):\n\u001B[1;32m     24\u001B[0m     \u001B[38;5;28;01mfor\u001B[39;00m j \u001B[38;5;129;01min\u001B[39;00m \u001B[38;5;28mrange\u001B[39m(width):\n\u001B[0;32m---> 25\u001B[0m         rgb_image[i, j] \u001B[38;5;241m=\u001B[39m \u001B[43mrgb_colors\u001B[49m\u001B[43m[\u001B[49m\u001B[43mimage\u001B[49m\u001B[43m[\u001B[49m\u001B[43mi\u001B[49m\u001B[43m,\u001B[49m\u001B[43m \u001B[49m\u001B[43mj\u001B[49m\u001B[43m]\u001B[49m\u001B[43m]\u001B[49m\n\u001B[1;32m     27\u001B[0m \u001B[38;5;66;03m# 6. 결과 확인\u001B[39;00m\n\u001B[1;32m     28\u001B[0m \u001B[38;5;28mprint\u001B[39m(rgb_image)\n",
      "\u001B[0;31mIndexError\u001B[0m: index 3 is out of bounds for axis 0 with size 3"
     ]
    }
   ],
   "source": [
    "import numpy as np\n",
    "import cv2\n",
    "# 1. RGB 컬러 배열 확인\n",
    "rgb_colors = np.array([[256, 3, 0], [0, 256, 3], [0, 3, 256]], dtype=np.uint8)\n",
    "\n",
    "\n",
    "data = np.load(\"../visualize/mysterydata/mysterydata4.npy\").astype(np.uint8)\n",
    "channels = cv2.split(data)\n",
    "image = channels[0]\n",
    "\n",
    "# 2. 512x512 이미지 배열 확인\n",
    "#image = np.array(..., dtype=np.uint8)  # ... 에는 이미지 데이터를 넣어주세요.\n",
    "\n",
    "# 3. 이미지 크기 확인\n",
    "height, width = image.shape\n",
    "print(height)\n",
    "print(width)\n",
    "\n",
    "# 4. 빈 RGB 이미지 생성\n",
    "rgb_image = np.zeros((height, width, 3), dtype=np.uint8)\n",
    "\n",
    "# 5. 각 픽셀에 RGB 컬러 매핑\n",
    "for i in range(height):\n",
    "    for j in range(width):\n",
    "        rgb_image[i, j] = rgb_colors[image[i, j]]\n",
    "\n",
    "# 6. 결과 확인\n",
    "print(rgb_image)\n",
    "\n",
    "# 7. (옵션) 이미지 저장\n",
    "# cv2 라이브러리를 사용하여 이미지를 저장할 수 있습니다.\n",
    "import cv2\n",
    "cv2.imwrite(\"rgb_image.png\", rgb_image)"
   ],
   "metadata": {
    "collapsed": false
   },
   "id": "9fe5488ee6762e12",
   "execution_count": 7
  },
  {
   "cell_type": "code",
   "execution_count": null,
   "outputs": [],
   "source": [],
   "metadata": {
    "collapsed": false
   }
  }
 ],
 "metadata": {
  "kernelspec": {
   "display_name": "Python 3",
   "language": "python",
   "name": "python3"
  },
  "language_info": {
   "codemirror_mode": {
    "name": "ipython",
    "version": 2
   },
   "file_extension": ".py",
   "mimetype": "text/x-python",
   "name": "python",
   "nbconvert_exporter": "python",
   "pygments_lexer": "ipython2",
   "version": "2.7.6"
  }
 },
 "nbformat": 4,
 "nbformat_minor": 5
}
