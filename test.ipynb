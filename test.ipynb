{
 "cells": [
  {
   "cell_type": "markdown",
   "source": [
    "# NAN 찾기"
   ],
   "metadata": {
    "collapsed": false
   }
  },
  {
   "cell_type": "code",
   "execution_count": 1,
   "outputs": [],
   "source": [
    "import numpy as np"
   ],
   "metadata": {
    "collapsed": false
   }
  },
  {
   "cell_type": "code",
   "execution_count": 2,
   "outputs": [
    {
     "data": {
      "text/plain": "array([ True,  True,  True])"
     },
     "execution_count": 2,
     "metadata": {},
     "output_type": "execute_result"
    }
   ],
   "source": [
    "data = [2,2,2]\n",
    "np.isfinite(data)"
   ],
   "metadata": {
    "collapsed": false
   }
  },
  {
   "cell_type": "code",
   "execution_count": 3,
   "outputs": [
    {
     "data": {
      "text/plain": "array([False, False, False])"
     },
     "execution_count": 3,
     "metadata": {},
     "output_type": "execute_result"
    }
   ],
   "source": [
    "data = np.array([2,2,np.nan])\n",
    "np.isinf(data)"
   ],
   "metadata": {
    "collapsed": false
   }
  },
  {
   "cell_type": "code",
   "execution_count": 4,
   "outputs": [
    {
     "data": {
      "text/plain": "array([ True,  True])"
     },
     "execution_count": 4,
     "metadata": {},
     "output_type": "execute_result"
    }
   ],
   "source": [
    "mask_data = np.array([1, 1], dtype=bool)\n",
    "mask_data\n",
    "#print(data[mask_data])"
   ],
   "metadata": {
    "collapsed": false
   }
  },
  {
   "cell_type": "markdown",
   "source": [
    "# 최대값 찾기"
   ],
   "metadata": {
    "collapsed": false
   }
  },
  {
   "cell_type": "code",
   "execution_count": 5,
   "outputs": [],
   "source": [
    "data_set = np.array([\n",
    "    [1,2,3,4],\n",
    "    [1,2,3,5],\n",
    "    [1,2,3,6]\n",
    "])"
   ],
   "metadata": {
    "collapsed": false
   }
  },
  {
   "cell_type": "code",
   "execution_count": 6,
   "outputs": [
    {
     "data": {
      "text/plain": "11"
     },
     "execution_count": 6,
     "metadata": {},
     "output_type": "execute_result"
    }
   ],
   "source": [
    "np.nanargmax(data_set)"
   ],
   "metadata": {
    "collapsed": false
   }
  },
  {
   "cell_type": "code",
   "execution_count": 7,
   "outputs": [],
   "source": [
    "a = np.array([[np.nan, 4], [2, 10]])\n",
    "#print(np.argmax(a))\n",
    "#print(np.nanargmax(a))\n",
    "#np.nanargmax(a, axis=0)\n",
    "#np.nanargmax(a, axis=1)\n",
    "x = np.isfinite(a)\n",
    "a[~x] =100"
   ],
   "metadata": {
    "collapsed": false
   }
  },
  {
   "cell_type": "markdown",
   "source": [
    "# 테이블 설정"
   ],
   "metadata": {
    "collapsed": false
   }
  },
  {
   "cell_type": "code",
   "execution_count": 14,
   "outputs": [
    {
     "name": "stdout",
     "output_type": "stream",
     "text": [
      "data\n",
      " [[7 2 2 5 8 8 2 8 5 5]]\n",
      "color data \n",
      " [[1 2 1 4 2 4 4 1 3 4]]\n",
      "color shape :  (1, 10)\n",
      "teat_data shape :  (1, 10)\n",
      "c shape :  (1, 1, 10)\n",
      "결과 \n",
      " [[[1 1 1 4 3 3 1 3 4 4]]]\n"
     ]
    }
   ],
   "source": [
    "import numpy as np\n",
    "\n",
    "color = np.random.randint(1,5, size=(1, 10))\n",
    "test_data = np.random.randint(1,10, size=(1,10))\n",
    "\n",
    "print(\"data\\n\",\n",
    "      test_data)\n",
    "\n",
    "print(\"color data \\n\",\n",
    "      color)\n",
    "print(\"color shape : \", color.shape)\n",
    "print(\"teat_data shape : \", test_data.shape)\n",
    "c = color[:, test_data]\n",
    "print(\"c shape : \", c.shape)\n",
    "print(\"결과 \\n\",c)\n"
   ],
   "metadata": {
    "collapsed": false
   }
  },
  {
   "cell_type": "code",
   "execution_count": 17,
   "outputs": [
    {
     "name": "stdout",
     "output_type": "stream",
     "text": [
      "[[7 2 2 5 8 8 7 8 5 5]]\n",
      "[[7 2 2 5 8 8 3 8 5 5]]\n"
     ]
    },
    {
     "data": {
      "text/plain": "array([[[1, 1, 1, 4, 3, 3, 4, 3, 4, 4]]])"
     },
     "execution_count": 17,
     "metadata": {},
     "output_type": "execute_result"
    }
   ],
   "source": [
    "print(test_data)\n",
    "test_data[0][6] = 3\n",
    "print(test_data)\n",
    "c = color[:, test_data]\n",
    "c"
   ],
   "metadata": {
    "collapsed": false
   }
  },
  {
   "cell_type": "code",
   "execution_count": 18,
   "outputs": [
    {
     "data": {
      "text/plain": "array([[7, 2, 2, 5, 8, 8, 3, 8, 5, 5]])"
     },
     "execution_count": 18,
     "metadata": {},
     "output_type": "execute_result"
    }
   ],
   "source": [
    "test_data"
   ],
   "metadata": {
    "collapsed": false
   }
  },
  {
   "cell_type": "code",
   "execution_count": null,
   "outputs": [],
   "source": [
    "color[0][1] = 3\n",
    "print(color)\n",
    "color[:, test_data]"
   ],
   "metadata": {
    "collapsed": false
   }
  },
  {
   "cell_type": "code",
   "execution_count": 59,
   "outputs": [
    {
     "name": "stdout",
     "output_type": "stream",
     "text": [
      "(512, 512)\n",
      "<class 'numpy.uint8'>\n",
      "(1, 256)\n",
      "255\n",
      "[[255 255 255 ... 255 255 255]\n",
      " [255 243 220 ... 246 252 255]\n",
      " [255 220 150 ... 228 246 255]\n",
      " ...\n",
      " [255 231 182 ... 186 232 255]\n",
      " [255 247 231 ... 232 247 255]\n",
      " [255 255 255 ... 255 255 255]]\n",
      "\n",
      "[[254 254 254 ... 254 254 254]\n",
      " [254 230 184 ... 236 248 254]\n",
      " [254 184  44 ... 200 236 254]\n",
      " ...\n",
      " [254 206 108 ... 116 208 254]\n",
      " [254 238 206 ... 208 238 254]\n",
      " [254 254 254 ... 254 254 254]]\n"
     ]
    }
   ],
   "source": [
    "import cv2\n",
    "import numpy as np\n",
    "\n",
    "# 이미지 읽기\n",
    "img = cv2.imread('hw1/rubik/indoor.png', cv2.IMREAD_GRAYSCALE)\n",
    "img = cv2.resize(img, (512,512))\n",
    "print(img.shape)\n",
    "print(type(img[0][0]))\n",
    "# Look-Up Table 생성 (명암 대비 조절)\n",
    "lut = np.arange(0, 256, 1, dtype=np.uint8).reshape(1, -1)\n",
    "\n",
    "lut = 2 * lut  # 각 픽셀 값을 2배로 증가\n",
    "print(lut.shape)\n",
    "print(img.max())\n",
    "\n",
    "# LUT 적용\n",
    "print(img)\n",
    "print()\n",
    "result_img = cv2.LUT(src=img, lut=lut)\n",
    "# result_img = lut[:, img]\n",
    "print(result_img)\n",
    "\n",
    "# 결과 이미지 저장\n",
    "#cv2.imshow('output_image.jpg', result_img)"
   ],
   "metadata": {
    "collapsed": false
   }
  },
  {
   "cell_type": "code",
   "execution_count": 41,
   "outputs": [
    {
     "name": "stdout",
     "output_type": "stream",
     "text": [
      "<class 'numpy.ndarray'>\n"
     ]
    },
    {
     "data": {
      "text/plain": "510"
     },
     "execution_count": 41,
     "metadata": {},
     "output_type": "execute_result"
    }
   ],
   "source": [
    "print(type(img))\n",
    "\n",
    "255* 2"
   ],
   "metadata": {
    "collapsed": false
   }
  },
  {
   "cell_type": "code",
   "execution_count": 24,
   "outputs": [
    {
     "data": {
      "text/plain": "1"
     },
     "execution_count": 24,
     "metadata": {},
     "output_type": "execute_result"
    }
   ],
   "source": [
    "510 // 256"
   ],
   "metadata": {
    "collapsed": false
   }
  },
  {
   "cell_type": "markdown",
   "source": [
    "# 2차원 3차원으로 합치기"
   ],
   "metadata": {
    "collapsed": false
   }
  },
  {
   "cell_type": "code",
   "execution_count": 4,
   "outputs": [],
   "source": [
    "import numpy as np\n",
    "a = np.array([\n",
    "    [1,2,3],\n",
    "    [3,4,4]\n",
    "])\n",
    "c = [a, a]"
   ],
   "metadata": {
    "collapsed": false
   }
  },
  {
   "cell_type": "code",
   "execution_count": 5,
   "outputs": [
    {
     "data": {
      "text/plain": "(2, 3, 2)"
     },
     "execution_count": 5,
     "metadata": {},
     "output_type": "execute_result"
    }
   ],
   "source": [
    "np.stack(c, axis=2).shape"
   ],
   "metadata": {
    "collapsed": false
   }
  },
  {
   "cell_type": "code",
   "execution_count": 7,
   "outputs": [
    {
     "data": {
      "text/plain": "array([[[1, 1],\n        [2, 2],\n        [3, 3]],\n\n       [[3, 3],\n        [4, 4],\n        [4, 4]]])"
     },
     "execution_count": 7,
     "metadata": {},
     "output_type": "execute_result"
    }
   ],
   "source": [
    "np.stack(c, axis=2)"
   ],
   "metadata": {
    "collapsed": false
   }
  },
  {
   "cell_type": "code",
   "execution_count": 1,
   "outputs": [],
   "source": [
    "import numpy as np\n"
   ],
   "metadata": {
    "collapsed": false
   }
  },
  {
   "cell_type": "code",
   "execution_count": 15,
   "outputs": [
    {
     "data": {
      "text/plain": "array([[1],\n       [0]])"
     },
     "execution_count": 15,
     "metadata": {},
     "output_type": "execute_result"
    }
   ],
   "source": [
    "palette = np.array([1,0]).reshape(-1,1)\n",
    "palette"
   ],
   "metadata": {
    "collapsed": false
   }
  },
  {
   "cell_type": "code",
   "execution_count": 16,
   "outputs": [
    {
     "data": {
      "text/plain": "array([[0, 1, 2, 3, 4, 5, 6, 7, 8]])"
     },
     "execution_count": 16,
     "metadata": {},
     "output_type": "execute_result"
    }
   ],
   "source": [
    "value = np.arange(0, 9).reshape(1, -1)\n",
    "value"
   ],
   "metadata": {
    "collapsed": false
   }
  },
  {
   "cell_type": "code",
   "execution_count": 18,
   "outputs": [
    {
     "data": {
      "text/plain": "array([[1, 0, 1, 2, 3, 4, 5, 6, 7],\n       [0, 1, 2, 3, 4, 5, 6, 7, 8]])"
     },
     "execution_count": 18,
     "metadata": {},
     "output_type": "execute_result"
    }
   ],
   "source": [
    "np.abs(palette - value)"
   ],
   "metadata": {
    "collapsed": false
   }
  },
  {
   "cell_type": "code",
   "execution_count": null,
   "outputs": [],
   "source": [],
   "metadata": {
    "collapsed": false
   }
  }
 ],
 "metadata": {
  "kernelspec": {
   "display_name": "Python 3",
   "language": "python",
   "name": "python3"
  },
  "language_info": {
   "codemirror_mode": {
    "name": "ipython",
    "version": 2
   },
   "file_extension": ".py",
   "mimetype": "text/x-python",
   "name": "python",
   "nbconvert_exporter": "python",
   "pygments_lexer": "ipython2",
   "version": "2.7.6"
  }
 },
 "nbformat": 4,
 "nbformat_minor": 0
}
